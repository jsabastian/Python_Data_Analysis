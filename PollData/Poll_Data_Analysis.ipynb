{
 "cells": [
  {
   "cell_type": "markdown",
   "id": "institutional-rings",
   "metadata": {},
   "source": [
    "### We'll use python to perform an analysis on election data.\n",
    "\n",
    "#### The data is three fields: Voter ID; County; Candidate. And really big."
   ]
  },
  {
   "cell_type": "code",
   "execution_count": 1,
   "id": "dried-elements",
   "metadata": {},
   "outputs": [],
   "source": [
    "#import dependencies\n",
    "import csv\n",
    "import os"
   ]
  },
  {
   "cell_type": "code",
   "execution_count": 2,
   "id": "challenging-recall",
   "metadata": {},
   "outputs": [
    {
     "name": "stdout",
     "output_type": "stream",
     "text": [
      "Resources/election_data.csv\n"
     ]
    }
   ],
   "source": [
    "#establish the path for importing the csv data\n",
    "import_data = os.path.join('Resources','election_data.csv')\n",
    "print(import_data)"
   ]
  },
  {
   "cell_type": "code",
   "execution_count": 3,
   "id": "formal-handling",
   "metadata": {},
   "outputs": [
    {
     "name": "stdout",
     "output_type": "stream",
     "text": [
      "Analysis/election_analysis.txt\n"
     ]
    }
   ],
   "source": [
    "#establish the output path for the analysis\n",
    "output_data = os.path.join(\"Analysis\",\"election_analysis.txt\")\n",
    "print(output_data)"
   ]
  },
  {
   "cell_type": "code",
   "execution_count": null,
   "id": "buried-dinner",
   "metadata": {},
   "outputs": [],
   "source": []
  }
 ],
 "metadata": {
  "kernelspec": {
   "display_name": "Python 3",
   "language": "python",
   "name": "python3"
  },
  "language_info": {
   "codemirror_mode": {
    "name": "ipython",
    "version": 3
   },
   "file_extension": ".py",
   "mimetype": "text/x-python",
   "name": "python",
   "nbconvert_exporter": "python",
   "pygments_lexer": "ipython3",
   "version": "3.8.5"
  }
 },
 "nbformat": 4,
 "nbformat_minor": 5
}
