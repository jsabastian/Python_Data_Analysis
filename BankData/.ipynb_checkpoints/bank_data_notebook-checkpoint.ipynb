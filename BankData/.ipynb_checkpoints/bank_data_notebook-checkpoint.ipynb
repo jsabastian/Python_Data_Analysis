{
 "cells": [
  {
   "cell_type": "markdown",
   "id": "understanding-funds",
   "metadata": {},
   "source": [
    "### We are going to do a quick analysis on a company's monthly sales sheet\n",
    "#### Take a look at the data and we can see it is a simple set of two fields and 86 rows"
   ]
  },
  {
   "cell_type": "code",
   "execution_count": null,
   "id": "coastal-incidence",
   "metadata": {},
   "outputs": [],
   "source": [
    "#import dependencies\n"
   ]
  },
  {
   "cell_type": "code",
   "execution_count": null,
   "id": "protected-small",
   "metadata": {},
   "outputs": [],
   "source": [
    "#we'll use the os.path.join to create a variable for the paths needed\n",
    "#input path\n",
    "\n",
    "#take a look\n"
   ]
  },
  {
   "cell_type": "code",
   "execution_count": null,
   "id": "broken-homework",
   "metadata": {},
   "outputs": [],
   "source": [
    "#we'll create an output file to the analysis folder\n"
   ]
  },
  {
   "cell_type": "markdown",
   "id": "collectible-bradley",
   "metadata": {},
   "source": [
    "### Financial Analysis"
   ]
  },
  {
   "cell_type": "markdown",
   "id": "organic-recruitment",
   "metadata": {},
   "source": [
    "* The total number of months included in the dataset\n",
    "\n",
    "* The net total amount of \"Profit/Losses\" over the entire period\n",
    "\n",
    "* The greatest increase in profits (date and amount) over the entire period\n",
    "\n",
    "* The greatest decrease in losses (date and amount) over the entire period\n",
    "\n",
    "* The average of the changes in \"Profit/Losses\" over the entire period"
   ]
  },
  {
   "cell_type": "code",
   "execution_count": null,
   "id": "funded-constraint",
   "metadata": {},
   "outputs": [],
   "source": [
    "#we can set up our variables for the above\n",
    "\n",
    "#we'll create a month counter set to zero\n",
    "\n",
    "\n",
    "#another variable for \n",
    "#we will create the avg variable later"
   ]
  },
  {
   "cell_type": "code",
   "execution_count": null,
   "id": "ignored-accused",
   "metadata": {},
   "outputs": [],
   "source": [
    "#read the csv into a list of dictionaries\n",
    "\n",
    "    \n",
    "    #use next function to read the header rows\n",
    "    \n",
    "    #we'll extract the first row of actual data to start the analysis\n",
    "\n",
    "    #change the months_total counter\n",
    "    \n",
    "    #we can use the extracted first row data to serve as the total net profit/loss\n",
    "    \n",
    "    #we can also use this same data to store as previous value\n",
    "    \n",
    "    \n",
    "    #now we iterate throught the reader list of dictionaries...and populate our analysis variables\n",
    "    \n",
    "        \n",
    "        #totals\n",
    "        \n",
    "        \n",
    "        #net change in profit/loss\n",
    "        \n",
    "        #grab that as a prev for the next iteration\n",
    "        \n",
    "        \n",
    "        #append the empty list\n",
    "        \n",
    "        \n",
    "        #calculate the greatest net changes\n",
    "        \n",
    "            \n",
    "        "
   ]
  },
  {
   "cell_type": "code",
   "execution_count": null,
   "id": "extraordinary-physiology",
   "metadata": {},
   "outputs": [],
   "source": [
    "#here we'll create the avg variable\n",
    "   "
   ]
  },
  {
   "cell_type": "code",
   "execution_count": null,
   "id": "continent-swing",
   "metadata": {},
   "outputs": [],
   "source": [
    "#create a display summary\n",
    "output = (\n",
    "    f\"Financial Analysis\\n\"\n",
    "    f\"----------------------------\\n\"\n",
    "    f\"Total Months: \\n\"\n",
    "    f\"Total: $\\n\"\n",
    "    f\"Average  Change: $\\n\"\n",
    "    f\"Greatest Increase in Profits:  ($)\\n\"\n",
    "    f\"Greatest Decrease in Profits:  ($)\\n\")"
   ]
  },
  {
   "cell_type": "code",
   "execution_count": null,
   "id": "northern-rough",
   "metadata": {},
   "outputs": [],
   "source": [
    "print(output)"
   ]
  },
  {
   "cell_type": "code",
   "execution_count": null,
   "id": "touched-method",
   "metadata": {},
   "outputs": [],
   "source": []
  }
 ],
 "metadata": {
  "kernelspec": {
   "display_name": "Python 3",
   "language": "python",
   "name": "python3"
  },
  "language_info": {
   "codemirror_mode": {
    "name": "ipython",
    "version": 3
   },
   "file_extension": ".py",
   "mimetype": "text/x-python",
   "name": "python",
   "nbconvert_exporter": "python",
   "pygments_lexer": "ipython3",
   "version": "3.8.5"
  }
 },
 "nbformat": 4,
 "nbformat_minor": 5
}
