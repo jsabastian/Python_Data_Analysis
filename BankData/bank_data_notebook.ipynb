{
 "cells": [
  {
   "cell_type": "markdown",
   "id": "understanding-funds",
   "metadata": {},
   "source": [
    "### We are going to do a quick analysis on a company's monthly sales sheet\n",
    "#### Take a look at the data and we can see it is a simple set of two fields and 86 rows"
   ]
  },
  {
   "cell_type": "code",
   "execution_count": 1,
   "id": "coastal-incidence",
   "metadata": {},
   "outputs": [],
   "source": [
    "#import dependencies\n",
    "import csv\n",
    "import os"
   ]
  },
  {
   "cell_type": "code",
   "execution_count": 2,
   "id": "protected-small",
   "metadata": {},
   "outputs": [
    {
     "name": "stdout",
     "output_type": "stream",
     "text": [
      "Resources/budget_data.csv\n"
     ]
    }
   ],
   "source": [
    "#we'll use the os.path.join to create a variable for the paths needed\n",
    "#input path\n",
    "input_data = os.path.join(\"Resources\",\"budget_data.csv\")\n",
    "#take a look\n",
    "print(input_data)"
   ]
  },
  {
   "cell_type": "code",
   "execution_count": 3,
   "id": "broken-homework",
   "metadata": {},
   "outputs": [
    {
     "name": "stdout",
     "output_type": "stream",
     "text": [
      "Analysis/output_analysis.txt\n"
     ]
    }
   ],
   "source": [
    "#we'll create an output text file to the analysis folder\n",
    "output_path = os.path.join(\"Analysis\",\"output_analysis.txt\")\n",
    "print(output_path)"
   ]
  },
  {
   "cell_type": "markdown",
   "id": "collectible-bradley",
   "metadata": {},
   "source": [
    "### Financial Analysis"
   ]
  },
  {
   "cell_type": "markdown",
   "id": "organic-recruitment",
   "metadata": {},
   "source": [
    "* The total number of months included in the dataset\n",
    "\n",
    "* The net total amount of \"Profit/Losses\" over the entire period\n",
    "\n",
    "* The greatest increase in profits (date and amount) over the entire period\n",
    "\n",
    "* The greatest decrease in losses (date and amount) over the entire period\n",
    "\n",
    "* The average of the changes in \"Profit/Losses\" over the entire period"
   ]
  },
  {
   "cell_type": "code",
   "execution_count": null,
   "id": "funded-constraint",
   "metadata": {},
   "outputs": [],
   "source": [
    "#we can set up our variables for the above\n",
    "\n",
    "#we'll create a month counter set to zero\n",
    "total_months = 0\n",
    "\n",
    "#list of each month populated as we iterate through the rows\n",
    "month_of_change = []\n",
    "\n",
    "#we'll keep a running tally of the total revenue over each row\n",
    "total_net = 0\n",
    "\n",
    "#empty list for the string month, and integer for the max increase from\n",
    "#previous month\n",
    "max_increase = [\"\",0]\n",
    "\n",
    "#empty list for the string month, and integer for the max decrease from\n",
    "#previous month\n",
    "max_decrease = [\"\", 9999999999999999999]\n",
    "\n",
    "#list of calculated changes for average calculation\n",
    "net_change_list = []\n",
    "\n",
    "#we will create the avg variable later"
   ]
  },
  {
   "cell_type": "code",
   "execution_count": null,
   "id": "ignored-accused",
   "metadata": {},
   "outputs": [],
   "source": [
    "#read the csv into a list of dictionaries using the previous path variable\n",
    "with open(input_data) as financial_data:\n",
    "    reader = csv.reader(financial_data)\n",
    "#     print(type(reader))\n",
    "    \n",
    "    #use next function to read the header rows\n",
    "    header = next(reader)\n",
    "#     print(header)\n",
    "    \n",
    "    #we'll extract the first row of actual data to start the analysis\n",
    "    first_row = next(reader)\n",
    "#     print(first_row)\n",
    "\n",
    "    total_months += 1\n",
    "#     print(total_months)\n",
    "\n",
    "    total_net += int(first_row[1])\n",
    "#     print(total_net)\n",
    "\n",
    "    prev_net = int(first_row[1])\n",
    "#     print(prev_net)\n",
    "    \n",
    "    for row in reader:\n",
    "        #change the months_total counter\n",
    "        total_months += 1\n",
    "#         print(total_months)\n",
    "        \n",
    "        #tally of each months revenue\n",
    "        total_net += int(row[1])\n",
    "#         print(total_net)\n",
    "\n",
    "        \n",
    "        #track the net change\n",
    "        net_change = int(row[1]) - prev_net\n",
    "#         print(net_change)\n",
    "\n",
    "        #capture the value for comparison to the next row\n",
    "        prev_net = int(row[1])\n",
    "#         print(prev_net)\n",
    "\n",
    "        net_change_list += [net_change]\n",
    "#         print(net_change_list)\n",
    "\n",
    "        month_of_change += [row[0]]\n",
    "#         print(month_of_change)\n",
    "        \n",
    "        #calculate the greatest increase\n",
    "        if net_change > max_increase[1]:\n",
    "            max_increase[0] = row[0]\n",
    "            max_increase[1] = net_change\n",
    "#             print(max_increase)\n",
    "            \n",
    "        #calculate the greatest decrease\n",
    "        if net_change < max_decrease[1]:\n",
    "            max_decrease[0] = row[0]\n",
    "            max_decrease[1] = net_change\n",
    "#             print(max_decrease)"
   ]
  },
  {
   "cell_type": "code",
   "execution_count": null,
   "id": "extraordinary-physiology",
   "metadata": {},
   "outputs": [],
   "source": [
    "#here we'll create the avg variable\n",
    "net_monthly_avg = sum(net_change_list) / len(net_change_list)\n",
    "# print(net_monthly_avg)"
   ]
  },
  {
   "cell_type": "code",
   "execution_count": null,
   "id": "continent-swing",
   "metadata": {},
   "outputs": [],
   "source": [
    "#create a display summary\n",
    "output = (\n",
    "    f\"Financial Analysis\\n\"\n",
    "    f\"----------------------------\\n\"\n",
    "    f\"Total Months: {total_months}\\n\"\n",
    "    f\"Total: ${total_net}\\n\"\n",
    "    f\"Average  Change: ${net_monthly_avg}\\n\"\n",
    "    f\"Greatest Increase in Profits: {max_increase[0]} (${max_increase[1]})\\n\"\n",
    "    f\"Greatest Decrease in Profits: {max_decrease[0]} (${max_decrease[1]})\\n\")"
   ]
  },
  {
   "cell_type": "code",
   "execution_count": null,
   "id": "northern-rough",
   "metadata": {},
   "outputs": [],
   "source": [
    "print(output)"
   ]
  },
  {
   "cell_type": "code",
   "execution_count": null,
   "id": "touched-method",
   "metadata": {},
   "outputs": [],
   "source": [
    "#export the results to the path created previously\n",
    "with open(output_path, \"w\") as txt_file:\n",
    "    txt_file.write(output)"
   ]
  },
  {
   "cell_type": "code",
   "execution_count": null,
   "id": "verified-journal",
   "metadata": {},
   "outputs": [],
   "source": []
  }
 ],
 "metadata": {
  "kernelspec": {
   "display_name": "Python 3",
   "language": "python",
   "name": "python3"
  },
  "language_info": {
   "codemirror_mode": {
    "name": "ipython",
    "version": 3
   },
   "file_extension": ".py",
   "mimetype": "text/x-python",
   "name": "python",
   "nbconvert_exporter": "python",
   "pygments_lexer": "ipython3",
   "version": "3.8.5"
  }
 },
 "nbformat": 4,
 "nbformat_minor": 5
}
